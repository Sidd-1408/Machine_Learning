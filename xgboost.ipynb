{
 "cells": [
  {
   "cell_type": "markdown",
   "id": "b2cc7bf5",
   "metadata": {
    "papermill": {
     "duration": 0.009433,
     "end_time": "2023-02-20T20:05:29.912481",
     "exception": false,
     "start_time": "2023-02-20T20:05:29.903048",
     "status": "completed"
    },
    "tags": []
   },
   "source": [
    "**This notebook is an exercise in the [Intermediate Machine Learning](https://www.kaggle.com/learn/intermediate-machine-learning) course.  You can reference the tutorial at [this link](https://www.kaggle.com/alexisbcook/xgboost).**\n",
    "\n",
    "---\n"
   ]
  },
  {
   "cell_type": "markdown",
   "id": "12998763",
   "metadata": {
    "papermill": {
     "duration": 0.004956,
     "end_time": "2023-02-20T20:05:29.922820",
     "exception": false,
     "start_time": "2023-02-20T20:05:29.917864",
     "status": "completed"
    },
    "tags": []
   },
   "source": [
    "In this exercise, you will use your new knowledge to train a model with **gradient boosting**.\n",
    "\n",
    "# Setup\n",
    "\n",
    "The questions below will give you feedback on your work. Run the following cell to set up the feedback system."
   ]
  },
  {
   "cell_type": "code",
   "execution_count": 1,
   "id": "658812d0",
   "metadata": {
    "execution": {
     "iopub.execute_input": "2023-02-20T20:05:29.936163Z",
     "iopub.status.busy": "2023-02-20T20:05:29.935211Z",
     "iopub.status.idle": "2023-02-20T20:05:32.480712Z",
     "shell.execute_reply": "2023-02-20T20:05:32.479267Z"
    },
    "papermill": {
     "duration": 2.556499,
     "end_time": "2023-02-20T20:05:32.484515",
     "exception": false,
     "start_time": "2023-02-20T20:05:29.928016",
     "status": "completed"
    },
    "tags": []
   },
   "outputs": [
    {
     "name": "stdout",
     "output_type": "stream",
     "text": [
      "Setup Complete\n"
     ]
    }
   ],
   "source": [
    "# Set up code checking\n",
    "import os\n",
    "if not os.path.exists(\"../input/train.csv\"):\n",
    "    os.symlink(\"../input/home-data-for-ml-course/train.csv\", \"../input/train.csv\")  \n",
    "    os.symlink(\"../input/home-data-for-ml-course/test.csv\", \"../input/test.csv\") \n",
    "from learntools.core import binder\n",
    "binder.bind(globals())\n",
    "from learntools.ml_intermediate.ex6 import *\n",
    "print(\"Setup Complete\")"
   ]
  },
  {
   "cell_type": "markdown",
   "id": "f6240634",
   "metadata": {
    "papermill": {
     "duration": 0.005081,
     "end_time": "2023-02-20T20:05:32.496060",
     "exception": false,
     "start_time": "2023-02-20T20:05:32.490979",
     "status": "completed"
    },
    "tags": []
   },
   "source": [
    "You will work with the [Housing Prices Competition for Kaggle Learn Users](https://www.kaggle.com/c/home-data-for-ml-course) dataset from the previous exercise. \n",
    "\n",
    "![Ames Housing dataset image](https://i.imgur.com/lTJVG4e.png)\n",
    "\n",
    "Run the next code cell without changes to load the training and validation sets in `X_train`, `X_valid`, `y_train`, and `y_valid`.  The test set is loaded in `X_test`."
   ]
  },
  {
   "cell_type": "code",
   "execution_count": 2,
   "id": "e459de39",
   "metadata": {
    "execution": {
     "iopub.execute_input": "2023-02-20T20:05:32.508747Z",
     "iopub.status.busy": "2023-02-20T20:05:32.508320Z",
     "iopub.status.idle": "2023-02-20T20:05:32.704700Z",
     "shell.execute_reply": "2023-02-20T20:05:32.703448Z"
    },
    "papermill": {
     "duration": 0.206131,
     "end_time": "2023-02-20T20:05:32.707541",
     "exception": false,
     "start_time": "2023-02-20T20:05:32.501410",
     "status": "completed"
    },
    "tags": []
   },
   "outputs": [],
   "source": [
    "import pandas as pd\n",
    "from sklearn.model_selection import train_test_split\n",
    "\n",
    "# Read the data\n",
    "X = pd.read_csv('../input/train.csv', index_col='Id')\n",
    "X_test_full = pd.read_csv('../input/test.csv', index_col='Id')\n",
    "\n",
    "# Remove rows with missing target, separate target from predictors\n",
    "X.dropna(axis=0, subset=['SalePrice'], inplace=True)\n",
    "y = X.SalePrice              \n",
    "X.drop(['SalePrice'], axis=1, inplace=True)\n",
    "\n",
    "# Break off validation set from training data\n",
    "X_train_full, X_valid_full, y_train, y_valid = train_test_split(X, y, train_size=0.8, test_size=0.2,\n",
    "                                                                random_state=0)\n",
    "\n",
    "# \"Cardinality\" means the number of unique values in a column\n",
    "# Select categorical columns with relatively low cardinality (convenient but arbitrary)\n",
    "low_cardinality_cols = [cname for cname in X_train_full.columns if X_train_full[cname].nunique() < 10 and \n",
    "                        X_train_full[cname].dtype == \"object\"]\n",
    "\n",
    "# Select numeric columns\n",
    "numeric_cols = [cname for cname in X_train_full.columns if X_train_full[cname].dtype in ['int64', 'float64']]\n",
    "\n",
    "# Keep selected columns only\n",
    "my_cols = low_cardinality_cols + numeric_cols\n",
    "X_train = X_train_full[my_cols].copy()\n",
    "X_valid = X_valid_full[my_cols].copy()\n",
    "X_test = X_test_full[my_cols].copy()\n",
    "\n",
    "# One-hot encode the data (to shorten the code, we use pandas)\n",
    "X_train = pd.get_dummies(X_train)\n",
    "X_valid = pd.get_dummies(X_valid)\n",
    "X_test = pd.get_dummies(X_test)\n",
    "X_train, X_valid = X_train.align(X_valid, join='left', axis=1)\n",
    "X_train, X_test = X_train.align(X_test, join='left', axis=1)"
   ]
  },
  {
   "cell_type": "markdown",
   "id": "594dee71",
   "metadata": {
    "papermill": {
     "duration": 0.00505,
     "end_time": "2023-02-20T20:05:32.718004",
     "exception": false,
     "start_time": "2023-02-20T20:05:32.712954",
     "status": "completed"
    },
    "tags": []
   },
   "source": [
    "# Step 1: Build model\n",
    "\n",
    "### Part A\n",
    "\n",
    "In this step, you'll build and train your first model with gradient boosting.\n",
    "\n",
    "- Begin by setting `my_model_1` to an XGBoost model.  Use the [XGBRegressor](https://xgboost.readthedocs.io/en/latest/python/python_api.html#xgboost.XGBRegressor) class, and set the random seed to 0 (`random_state=0`).  **Leave all other parameters as default.**\n",
    "- Then, fit the model to the training data in `X_train` and `y_train`."
   ]
  },
  {
   "cell_type": "code",
   "execution_count": 3,
   "id": "caccf9cf",
   "metadata": {
    "execution": {
     "iopub.execute_input": "2023-02-20T20:05:32.730105Z",
     "iopub.status.busy": "2023-02-20T20:05:32.729652Z",
     "iopub.status.idle": "2023-02-20T20:05:33.722421Z",
     "shell.execute_reply": "2023-02-20T20:05:33.721218Z"
    },
    "papermill": {
     "duration": 1.001769,
     "end_time": "2023-02-20T20:05:33.724939",
     "exception": false,
     "start_time": "2023-02-20T20:05:32.723170",
     "status": "completed"
    },
    "tags": []
   },
   "outputs": [
    {
     "data": {
      "application/javascript": [
       "parent.postMessage({\"jupyterEvent\": \"custom.exercise_interaction\", \"data\": {\"outcomeType\": 1, \"valueTowardsCompletion\": 0.5, \"interactionType\": 1, \"questionType\": 2, \"questionId\": \"1.1_Model1A\", \"learnToolsVersion\": \"0.3.4\", \"failureMessage\": \"\", \"exceptionClass\": \"\", \"trace\": \"\"}}, \"*\")"
      ],
      "text/plain": [
       "<IPython.core.display.Javascript object>"
      ]
     },
     "metadata": {},
     "output_type": "display_data"
    },
    {
     "data": {
      "text/markdown": [
       "<span style=\"color:#33cc33\">Correct</span>"
      ],
      "text/plain": [
       "Correct"
      ]
     },
     "metadata": {},
     "output_type": "display_data"
    }
   ],
   "source": [
    "from xgboost import XGBRegressor\n",
    "\n",
    "# Define the model\n",
    "my_model_1 =XGBRegressor(random_state=0)\n",
    "my_model_1.fit(X_train, y_train) \n",
    "\n",
    "\n",
    "\n",
    "# Check your answer\n",
    "step_1.a.check()"
   ]
  },
  {
   "cell_type": "code",
   "execution_count": 4,
   "id": "0d05114c",
   "metadata": {
    "execution": {
     "iopub.execute_input": "2023-02-20T20:05:33.737868Z",
     "iopub.status.busy": "2023-02-20T20:05:33.737399Z",
     "iopub.status.idle": "2023-02-20T20:05:33.742821Z",
     "shell.execute_reply": "2023-02-20T20:05:33.741507Z"
    },
    "papermill": {
     "duration": 0.014523,
     "end_time": "2023-02-20T20:05:33.745271",
     "exception": false,
     "start_time": "2023-02-20T20:05:33.730748",
     "status": "completed"
    },
    "tags": []
   },
   "outputs": [],
   "source": [
    "# Lines below will give you a hint or solution code\n",
    "#step_1.a.hint()\n",
    "#step_1.a.solution()"
   ]
  },
  {
   "cell_type": "markdown",
   "id": "27282bb7",
   "metadata": {
    "papermill": {
     "duration": 0.005285,
     "end_time": "2023-02-20T20:05:33.756333",
     "exception": false,
     "start_time": "2023-02-20T20:05:33.751048",
     "status": "completed"
    },
    "tags": []
   },
   "source": [
    "### Part B\n",
    "\n",
    "Set `predictions_1` to the model's predictions for the validation data.  Recall that the validation features are stored in `X_valid`."
   ]
  },
  {
   "cell_type": "code",
   "execution_count": 5,
   "id": "e9bc0edc",
   "metadata": {
    "execution": {
     "iopub.execute_input": "2023-02-20T20:05:33.769654Z",
     "iopub.status.busy": "2023-02-20T20:05:33.768972Z",
     "iopub.status.idle": "2023-02-20T20:05:33.791501Z",
     "shell.execute_reply": "2023-02-20T20:05:33.790375Z"
    },
    "papermill": {
     "duration": 0.032217,
     "end_time": "2023-02-20T20:05:33.794073",
     "exception": false,
     "start_time": "2023-02-20T20:05:33.761856",
     "status": "completed"
    },
    "tags": []
   },
   "outputs": [
    {
     "data": {
      "application/javascript": [
       "parent.postMessage({\"jupyterEvent\": \"custom.exercise_interaction\", \"data\": {\"outcomeType\": 1, \"valueTowardsCompletion\": 0.5, \"interactionType\": 1, \"questionType\": 2, \"questionId\": \"1.2_Model1B\", \"learnToolsVersion\": \"0.3.4\", \"failureMessage\": \"\", \"exceptionClass\": \"\", \"trace\": \"\"}}, \"*\")"
      ],
      "text/plain": [
       "<IPython.core.display.Javascript object>"
      ]
     },
     "metadata": {},
     "output_type": "display_data"
    },
    {
     "data": {
      "text/markdown": [
       "<span style=\"color:#33cc33\">Correct</span>"
      ],
      "text/plain": [
       "Correct"
      ]
     },
     "metadata": {},
     "output_type": "display_data"
    }
   ],
   "source": [
    "from sklearn.metrics import mean_absolute_error\n",
    "\n",
    "# Get predictions\n",
    "predictions_1 = my_model_1.predict(X_valid)\n",
    "\n",
    "\n",
    "# Check your answer\n",
    "step_1.b.check()"
   ]
  },
  {
   "cell_type": "code",
   "execution_count": 6,
   "id": "56b12643",
   "metadata": {
    "execution": {
     "iopub.execute_input": "2023-02-20T20:05:33.808838Z",
     "iopub.status.busy": "2023-02-20T20:05:33.808347Z",
     "iopub.status.idle": "2023-02-20T20:05:33.813194Z",
     "shell.execute_reply": "2023-02-20T20:05:33.812038Z"
    },
    "papermill": {
     "duration": 0.014702,
     "end_time": "2023-02-20T20:05:33.815725",
     "exception": false,
     "start_time": "2023-02-20T20:05:33.801023",
     "status": "completed"
    },
    "tags": []
   },
   "outputs": [],
   "source": [
    "# Lines below will give you a hint or solution code\n",
    "#step_1.b.hint()\n",
    "#step_1.b.solution()"
   ]
  },
  {
   "cell_type": "markdown",
   "id": "5f288870",
   "metadata": {
    "papermill": {
     "duration": 0.005634,
     "end_time": "2023-02-20T20:05:33.827395",
     "exception": false,
     "start_time": "2023-02-20T20:05:33.821761",
     "status": "completed"
    },
    "tags": []
   },
   "source": [
    "### Part C\n",
    "\n",
    "Finally, use the `mean_absolute_error()` function to calculate the mean absolute error (MAE) corresponding to the predictions for the validation set.  Recall that the labels for the validation data are stored in `y_valid`."
   ]
  },
  {
   "cell_type": "code",
   "execution_count": null,
   "id": "860f071e",
   "metadata": {
    "papermill": {
     "duration": 0.005584,
     "end_time": "2023-02-20T20:05:33.838828",
     "exception": false,
     "start_time": "2023-02-20T20:05:33.833244",
     "status": "completed"
    },
    "tags": []
   },
   "outputs": [],
   "source": []
  },
  {
   "cell_type": "markdown",
   "id": "e43a027f",
   "metadata": {
    "execution": {
     "iopub.execute_input": "2023-02-20T20:01:06.805762Z",
     "iopub.status.busy": "2023-02-20T20:01:06.805320Z",
     "iopub.status.idle": "2023-02-20T20:01:06.816825Z",
     "shell.execute_reply": "2023-02-20T20:01:06.815750Z",
     "shell.execute_reply.started": "2023-02-20T20:01:06.805727Z"
    },
    "papermill": {
     "duration": 0.005647,
     "end_time": "2023-02-20T20:05:33.850296",
     "exception": false,
     "start_time": "2023-02-20T20:05:33.844649",
     "status": "completed"
    },
    "tags": []
   },
   "source": [
    "# Calculate MAE\n",
    "mae_1 = mean_absolute_error(predictions_1, y_valid)\n",
    "\n",
    "# Uncomment to print MAE\n",
    "print(\"Mean Absolute Error:\" , mae_1)\n",
    "\n",
    "# Check your answer\n",
    "step_1.c.check()"
   ]
  },
  {
   "cell_type": "code",
   "execution_count": 7,
   "id": "790c9afc",
   "metadata": {
    "execution": {
     "iopub.execute_input": "2023-02-20T20:05:33.863749Z",
     "iopub.status.busy": "2023-02-20T20:05:33.863314Z",
     "iopub.status.idle": "2023-02-20T20:05:33.868618Z",
     "shell.execute_reply": "2023-02-20T20:05:33.867390Z"
    },
    "papermill": {
     "duration": 0.014859,
     "end_time": "2023-02-20T20:05:33.871044",
     "exception": false,
     "start_time": "2023-02-20T20:05:33.856185",
     "status": "completed"
    },
    "tags": []
   },
   "outputs": [],
   "source": [
    "# Lines below will give you a hint or solution code\n",
    "#step_1.c.hint()\n",
    "#step_1.c.solution()"
   ]
  },
  {
   "cell_type": "markdown",
   "id": "4667d8ea",
   "metadata": {
    "papermill": {
     "duration": 0.005691,
     "end_time": "2023-02-20T20:05:33.883009",
     "exception": false,
     "start_time": "2023-02-20T20:05:33.877318",
     "status": "completed"
    },
    "tags": []
   },
   "source": [
    "# Step 2: Improve the model\n",
    "\n",
    "Now that you've trained a default model as baseline, it's time to tinker with the parameters, to see if you can get better performance!\n",
    "- Begin by setting `my_model_2` to an XGBoost model, using the [XGBRegressor](https://xgboost.readthedocs.io/en/latest/python/python_api.html#xgboost.XGBRegressor) class.  Use what you learned in the previous tutorial to figure out how to change the default parameters (like `n_estimators` and `learning_rate`) to get better results.\n",
    "- Then, fit the model to the training data in `X_train` and `y_train`.\n",
    "- Set `predictions_2` to the model's predictions for the validation data.  Recall that the validation features are stored in `X_valid`.\n",
    "- Finally, use the `mean_absolute_error()` function to calculate the mean absolute error (MAE) corresponding to the predictions on the validation set.  Recall that the labels for the validation data are stored in `y_valid`.\n",
    "\n",
    "In order for this step to be marked correct, your model in `my_model_2` must attain lower MAE than the model in `my_model_1`. "
   ]
  },
  {
   "cell_type": "code",
   "execution_count": 8,
   "id": "5a94d4d7",
   "metadata": {
    "execution": {
     "iopub.execute_input": "2023-02-20T20:05:33.896952Z",
     "iopub.status.busy": "2023-02-20T20:05:33.896392Z",
     "iopub.status.idle": "2023-02-20T20:05:38.672451Z",
     "shell.execute_reply": "2023-02-20T20:05:38.671535Z"
    },
    "papermill": {
     "duration": 4.786053,
     "end_time": "2023-02-20T20:05:38.675103",
     "exception": false,
     "start_time": "2023-02-20T20:05:33.889050",
     "status": "completed"
    },
    "tags": []
   },
   "outputs": [
    {
     "name": "stdout",
     "output_type": "stream",
     "text": [
      "Mean Absolute Error: 16728.27523009418\n"
     ]
    },
    {
     "data": {
      "application/javascript": [
       "parent.postMessage({\"jupyterEvent\": \"custom.exercise_interaction\", \"data\": {\"outcomeType\": 1, \"valueTowardsCompletion\": 0.5, \"interactionType\": 1, \"questionType\": 2, \"questionId\": \"2_Model2\", \"learnToolsVersion\": \"0.3.4\", \"failureMessage\": \"\", \"exceptionClass\": \"\", \"trace\": \"\"}}, \"*\")"
      ],
      "text/plain": [
       "<IPython.core.display.Javascript object>"
      ]
     },
     "metadata": {},
     "output_type": "display_data"
    },
    {
     "data": {
      "text/markdown": [
       "<span style=\"color:#33cc33\">Correct</span>"
      ],
      "text/plain": [
       "Correct"
      ]
     },
     "metadata": {},
     "output_type": "display_data"
    }
   ],
   "source": [
    "# Define the model\n",
    "\n",
    "my_model_2 = XGBRegressor(n_estimators=500,learning_rate=0.05)\n",
    "\n",
    "# Fit the model\n",
    "my_model_2.fit(X_train,y_train)\n",
    "\n",
    "# Get predictions\n",
    "predictions_2 = my_model_2.predict(X_valid)\n",
    "\n",
    "# Calculate MAE\n",
    "\n",
    "mae_2 = mean_absolute_error(predictions_2,y_valid)\n",
    "\n",
    "# Uncomment to print MAE\n",
    "print(\"Mean Absolute Error:\" , mae_2)\n",
    "\n",
    "# Check your answer\n",
    "step_2.check()"
   ]
  },
  {
   "cell_type": "code",
   "execution_count": 9,
   "id": "6b36e4fe",
   "metadata": {
    "execution": {
     "iopub.execute_input": "2023-02-20T20:05:38.689466Z",
     "iopub.status.busy": "2023-02-20T20:05:38.688983Z",
     "iopub.status.idle": "2023-02-20T20:05:38.693796Z",
     "shell.execute_reply": "2023-02-20T20:05:38.692587Z"
    },
    "papermill": {
     "duration": 0.014547,
     "end_time": "2023-02-20T20:05:38.696132",
     "exception": false,
     "start_time": "2023-02-20T20:05:38.681585",
     "status": "completed"
    },
    "tags": []
   },
   "outputs": [],
   "source": [
    "# Lines below will give you a hint or solution code\n",
    "#step_2.hint()\n",
    "#step_2.solution()"
   ]
  },
  {
   "cell_type": "markdown",
   "id": "8da9c0c2",
   "metadata": {
    "papermill": {
     "duration": 0.006013,
     "end_time": "2023-02-20T20:05:38.708579",
     "exception": false,
     "start_time": "2023-02-20T20:05:38.702566",
     "status": "completed"
    },
    "tags": []
   },
   "source": [
    "# Step 3: Break the model\n",
    "\n",
    "In this step, you will create a model that performs worse than the original model in Step 1.  This will help you to develop your intuition for how to set parameters.  You might even find that you accidentally get better performance, which is ultimately a nice problem to have and a valuable learning experience!\n",
    "- Begin by setting `my_model_3` to an XGBoost model, using the [XGBRegressor](https://xgboost.readthedocs.io/en/latest/python/python_api.html#xgboost.XGBRegressor) class.  Use what you learned in the previous tutorial to figure out how to change the default parameters (like `n_estimators` and `learning_rate`) to design a model to get high MAE.\n",
    "- Then, fit the model to the training data in `X_train` and `y_train`.\n",
    "- Set `predictions_3` to the model's predictions for the validation data.  Recall that the validation features are stored in `X_valid`.\n",
    "- Finally, use the `mean_absolute_error()` function to calculate the mean absolute error (MAE) corresponding to the predictions on the validation set.  Recall that the labels for the validation data are stored in `y_valid`.\n",
    "\n",
    "In order for this step to be marked correct, your model in `my_model_3` must attain higher MAE than the model in `my_model_1`. "
   ]
  },
  {
   "cell_type": "code",
   "execution_count": 10,
   "id": "15846057",
   "metadata": {
    "execution": {
     "iopub.execute_input": "2023-02-20T20:05:38.723210Z",
     "iopub.status.busy": "2023-02-20T20:05:38.722500Z",
     "iopub.status.idle": "2023-02-20T20:05:38.879882Z",
     "shell.execute_reply": "2023-02-20T20:05:38.877971Z"
    },
    "papermill": {
     "duration": 0.167143,
     "end_time": "2023-02-20T20:05:38.882141",
     "exception": false,
     "start_time": "2023-02-20T20:05:38.714998",
     "status": "completed"
    },
    "tags": []
   },
   "outputs": [
    {
     "name": "stdout",
     "output_type": "stream",
     "text": [
      "Mean Absolute Error: 179420.4332848118\n"
     ]
    },
    {
     "data": {
      "application/javascript": [
       "parent.postMessage({\"jupyterEvent\": \"custom.exercise_interaction\", \"data\": {\"outcomeType\": 1, \"valueTowardsCompletion\": 0.5, \"interactionType\": 1, \"questionType\": 2, \"questionId\": \"3_Model3\", \"learnToolsVersion\": \"0.3.4\", \"failureMessage\": \"\", \"exceptionClass\": \"\", \"trace\": \"\"}}, \"*\")"
      ],
      "text/plain": [
       "<IPython.core.display.Javascript object>"
      ]
     },
     "metadata": {},
     "output_type": "display_data"
    },
    {
     "data": {
      "text/markdown": [
       "<span style=\"color:#33cc33\">Correct</span>"
      ],
      "text/plain": [
       "Correct"
      ]
     },
     "metadata": {},
     "output_type": "display_data"
    }
   ],
   "source": [
    "# Define the model\n",
    "my_model_3 = XGBRegressor(n_estimators=11,learning_rate=0.001)\n",
    "\n",
    "# Fit the model\n",
    "my_model_3.fit(X_train,y_train)\n",
    "\n",
    "# Get predictions\n",
    "predictions_3 = my_model_3.predict(X_valid)\n",
    "\n",
    "# Calculate MAE\n",
    "\n",
    "mae_3 = mean_absolute_error(predictions_3,y_valid)\n",
    "\n",
    "# Uncomment to print MAE\n",
    "print(\"Mean Absolute Error:\" , mae_3)\n",
    "\n",
    "\n",
    "step_3.check()"
   ]
  },
  {
   "cell_type": "code",
   "execution_count": 11,
   "id": "f866c69d",
   "metadata": {
    "execution": {
     "iopub.execute_input": "2023-02-20T20:05:38.897624Z",
     "iopub.status.busy": "2023-02-20T20:05:38.897247Z",
     "iopub.status.idle": "2023-02-20T20:05:38.902196Z",
     "shell.execute_reply": "2023-02-20T20:05:38.900768Z"
    },
    "papermill": {
     "duration": 0.014984,
     "end_time": "2023-02-20T20:05:38.904627",
     "exception": false,
     "start_time": "2023-02-20T20:05:38.889643",
     "status": "completed"
    },
    "tags": []
   },
   "outputs": [],
   "source": [
    "# Lines below will give you a hint or solution code\n",
    "#step_3.hint()\n",
    "#step_3.solution()"
   ]
  },
  {
   "cell_type": "markdown",
   "id": "1aeea0ad",
   "metadata": {
    "papermill": {
     "duration": 0.006648,
     "end_time": "2023-02-20T20:05:38.918470",
     "exception": false,
     "start_time": "2023-02-20T20:05:38.911822",
     "status": "completed"
    },
    "tags": []
   },
   "source": [
    "# Keep going\n",
    "\n",
    "Continue to learn about **[data leakage](https://www.kaggle.com/alexisbcook/data-leakage)**.  This is an important issue for a data scientist to understand, and it has the potential to ruin your models in subtle and dangerous ways!"
   ]
  },
  {
   "cell_type": "markdown",
   "id": "69f9c46c",
   "metadata": {
    "papermill": {
     "duration": 0.006398,
     "end_time": "2023-02-20T20:05:38.931641",
     "exception": false,
     "start_time": "2023-02-20T20:05:38.925243",
     "status": "completed"
    },
    "tags": []
   },
   "source": [
    "---\n",
    "\n",
    "\n",
    "\n",
    "\n",
    "*Have questions or comments? Visit the [course discussion forum](https://www.kaggle.com/learn/intermediate-machine-learning/discussion) to chat with other learners.*"
   ]
  }
 ],
 "metadata": {
  "kernelspec": {
   "display_name": "Python 3",
   "language": "python",
   "name": "python3"
  },
  "language_info": {
   "codemirror_mode": {
    "name": "ipython",
    "version": 3
   },
   "file_extension": ".py",
   "mimetype": "text/x-python",
   "name": "python",
   "nbconvert_exporter": "python",
   "pygments_lexer": "ipython3",
   "version": "3.7.12"
  },
  "papermill": {
   "default_parameters": {},
   "duration": 20.666252,
   "end_time": "2023-02-20T20:05:39.763048",
   "environment_variables": {},
   "exception": null,
   "input_path": "__notebook__.ipynb",
   "output_path": "__notebook__.ipynb",
   "parameters": {},
   "start_time": "2023-02-20T20:05:19.096796",
   "version": "2.3.4"
  }
 },
 "nbformat": 4,
 "nbformat_minor": 5
}
